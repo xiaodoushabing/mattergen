{
 "cells": [
  {
   "cell_type": "code",
   "execution_count": 3,
   "metadata": {},
   "outputs": [],
   "source": [
    "from utils.extxyz_processor import conv_results, pick_results"
   ]
  },
  {
   "cell_type": "code",
   "execution_count": 4,
   "metadata": {},
   "outputs": [
    {
     "name": "stdout",
     "output_type": "stream",
     "text": [
      "================================================== Long Results ==================================================\n",
      "Index: 1\n",
      "Atom count: 4\n",
      "Lattice: Lattice=\"2.344268798828125 0.0 -0.8227763175964355 0.0020287981262272292 4.039822545836347 0.0001052904044627212 0.0 0.0 4.946382999420166\" Properties=species:S:1:pos:R:3 pbc=\"T T T\"\n",
      "Data: ['Fe       1.63390710       0.27189899       0.85269454', 'Fe       0.45656301       2.29162888       0.02768469', 'Co       1.63381457       0.27183331       3.32310835', 'Fe       0.47061347       2.29124024       2.49801140']\n",
      "Atom List: {'Fe': 3, 'Co': 1}\n",
      "==================================================\n",
      "Index: 2\n",
      "Atom count: 12\n",
      "Lattice: Lattice=\"4.357882499694824 0.0 -0.0063827731646597385 -0.0007576823401313089 7.672646961948148 -1.0396541256341152e-05 0.0 0.0 9.29709243774414\" Properties=species:S:1:pos:R:3 pbc=\"T T T\"\n",
      "Data: ['Gd       0.79927960       5.47803385       4.13460219', 'Si       0.79778025       2.42493522       4.67480620', 'Si       0.80185446       6.25707897       6.98118296', 'Gd       2.98383052       7.17286119       8.77595001', 'Gd       0.79676690       1.63979726       7.50877795', 'Gd       0.80254162       4.69342079       0.43971410', 'Gd       2.97765700       3.34090997       2.85689364', 'Si       2.97942518       2.55645446       0.02343018', 'Gd       2.98011008       0.28969529       5.08442535', 'Gd       0.79935189       0.85707153       1.91401555', 'Gd       2.97835111       4.12673105       6.55956475', 'Si       2.97800421       6.39545558       2.32848224']\n",
      "Atom List: {'Gd': 8, 'Si': 4}\n",
      "==================================================\n",
      "\n",
      "\n",
      " ================================================== Short Results ==================================================\n",
      "Index: 1\n",
      "Atom count: 4\n",
      "Atom List: {'Fe': 3, 'Co': 1}\n",
      "==================================================\n",
      "Index: 2\n",
      "Atom count: 12\n",
      "Atom List: {'Gd': 8, 'Si': 4}\n",
      "==================================================\n",
      "\n",
      "\n",
      " ================================================== Short Results DF ==================================================\n",
      "  atom_count            atom_list\n",
      "1          4   {'Fe': 3, 'Co': 1}\n",
      "2         12   {'Gd': 8, 'Si': 4}\n",
      "3          8   {'Sm': 2, 'Gd': 6}\n",
      "4         16  {'Fe': 13, 'Co': 3}\n",
      "5          4            {'Fe': 4}\n"
     ]
    }
   ],
   "source": [
    "model_name='dft_mag_density_1.20_3'\n",
    "structures_path = f\"results/{model_name}/generated_crystals.extxyz\"\n",
    "structure_path = \"./temp.xyz\"\n",
    "\n",
    "long_results, short_results_df = conv_results(structures_path, preview = True)"
   ]
  },
  {
   "cell_type": "code",
   "execution_count": 9,
   "metadata": {},
   "outputs": [
    {
     "data": {
      "text/plain": [
       "'Lattice=\"2.344268798828125 0.0 -0.8227763175964355 0.0020287981262272292 4.039822545836347 0.0001052904044627212 0.0 0.0 4.946382999420166\" Properties=species:S:1:pos:R:3 pbc=\"T T T\"'"
      ]
     },
     "execution_count": 9,
     "metadata": {},
     "output_type": "execute_result"
    }
   ],
   "source": [
    "long_results[1]['lattice']\n"
   ]
  },
  {
   "cell_type": "code",
   "execution_count": 3,
   "metadata": {},
   "outputs": [
    {
     "data": {
      "text/html": [
       "<div>\n",
       "<style scoped>\n",
       "    .dataframe tbody tr th:only-of-type {\n",
       "        vertical-align: middle;\n",
       "    }\n",
       "\n",
       "    .dataframe tbody tr th {\n",
       "        vertical-align: top;\n",
       "    }\n",
       "\n",
       "    .dataframe thead th {\n",
       "        text-align: right;\n",
       "    }\n",
       "</style>\n",
       "<table border=\"1\" class=\"dataframe\">\n",
       "  <thead>\n",
       "    <tr style=\"text-align: right;\">\n",
       "      <th></th>\n",
       "      <th>atom_count</th>\n",
       "      <th>atom_list</th>\n",
       "    </tr>\n",
       "  </thead>\n",
       "  <tbody>\n",
       "    <tr>\n",
       "      <th>2</th>\n",
       "      <td>4</td>\n",
       "      <td>{'Eu': 4}</td>\n",
       "    </tr>\n",
       "    <tr>\n",
       "      <th>3</th>\n",
       "      <td>5</td>\n",
       "      <td>{'Eu': 3, 'N': 1, 'P': 1}</td>\n",
       "    </tr>\n",
       "    <tr>\n",
       "      <th>7</th>\n",
       "      <td>6</td>\n",
       "      <td>{'Pd': 1, 'Fe': 4, 'Mn': 1}</td>\n",
       "    </tr>\n",
       "    <tr>\n",
       "      <th>11</th>\n",
       "      <td>5</td>\n",
       "      <td>{'Eu': 3, 'N': 1, 'Ge': 1}</td>\n",
       "    </tr>\n",
       "    <tr>\n",
       "      <th>12</th>\n",
       "      <td>5</td>\n",
       "      <td>{'Eu': 3, 'Sb': 1, 'H': 1}</td>\n",
       "    </tr>\n",
       "    <tr>\n",
       "      <th>15</th>\n",
       "      <td>4</td>\n",
       "      <td>{'Fe': 2, 'Co': 1, 'Ni': 1}</td>\n",
       "    </tr>\n",
       "  </tbody>\n",
       "</table>\n",
       "</div>"
      ],
      "text/plain": [
       "   atom_count                    atom_list\n",
       "2           4                    {'Eu': 4}\n",
       "3           5    {'Eu': 3, 'N': 1, 'P': 1}\n",
       "7           6  {'Pd': 1, 'Fe': 4, 'Mn': 1}\n",
       "11          5   {'Eu': 3, 'N': 1, 'Ge': 1}\n",
       "12          5   {'Eu': 3, 'Sb': 1, 'H': 1}\n",
       "15          4  {'Fe': 2, 'Co': 1, 'Ni': 1}"
      ]
     },
     "execution_count": 3,
     "metadata": {},
     "output_type": "execute_result"
    }
   ],
   "source": [
    "short_results_df[short_results_df['atom_count'] <= 6]"
   ]
  },
  {
   "cell_type": "code",
   "execution_count": 4,
   "metadata": {},
   "outputs": [
    {
     "name": "stdout",
     "output_type": "stream",
     "text": [
      "Structure positions: [[-0.77667379  5.46858254  3.01371117]\n",
      " [ 2.69194264  0.48237542  3.08780249]\n",
      " [ 2.2678473   0.1421077   6.41683919]\n",
      " [ 1.33797556  3.00702835  6.02050709]\n",
      " [ 2.4643218   4.62921693  1.78812036]\n",
      " [-0.27070211  3.87995276  1.81881819]\n",
      " [ 1.54148753  2.82979515  3.43268345]\n",
      " [ 0.4055219   0.97753115  4.51851679]\n",
      " [ 1.4781178   2.91287034  1.59387904]\n",
      " [ 3.44635684  2.42665823  1.54348801]\n",
      " [ 0.37617891  1.25200578  1.81001884]\n",
      " [ 2.23792163  4.78606802  4.53641915]\n",
      " [ 3.34257019  2.16472605  4.8822034 ]\n",
      " [-0.44955632  4.08856803  4.39775176]\n",
      " [ 4.28289133  0.75856058  1.76669686]]\n"
     ]
    },
    {
     "data": {
      "application/3dmoljs_load.v0": "<div id=\"3dmolviewer_173977255908188\"  style=\"position: relative; width: 800px; height: 600px;\">\n        <p id=\"3dmolwarning_173977255908188\" style=\"background-color:#ffcccc;color:black\">3Dmol.js failed to load for some reason.  Please check your browser console for error messages.<br></p>\n        </div>\n<script>\n\nvar loadScriptAsync = function(uri){\n  return new Promise((resolve, reject) => {\n    //this is to ignore the existence of requirejs amd\n    var savedexports, savedmodule;\n    if (typeof exports !== 'undefined') savedexports = exports;\n    else exports = {}\n    if (typeof module !== 'undefined') savedmodule = module;\n    else module = {}\n\n    var tag = document.createElement('script');\n    tag.src = uri;\n    tag.async = true;\n    tag.onload = () => {\n        exports = savedexports;\n        module = savedmodule;\n        resolve();\n    };\n  var firstScriptTag = document.getElementsByTagName('script')[0];\n  firstScriptTag.parentNode.insertBefore(tag, firstScriptTag);\n});\n};\n\nif(typeof $3Dmolpromise === 'undefined') {\n$3Dmolpromise = null;\n  $3Dmolpromise = loadScriptAsync('https://cdnjs.cloudflare.com/ajax/libs/3Dmol/2.4.2/3Dmol-min.js');\n}\n\nvar viewer_173977255908188 = null;\nvar warn = document.getElementById(\"3dmolwarning_173977255908188\");\nif(warn) {\n    warn.parentNode.removeChild(warn);\n}\n$3Dmolpromise.then(function() {\nviewer_173977255908188 = $3Dmol.createViewer(document.getElementById(\"3dmolviewer_173977255908188\"),{backgroundColor:\"white\"});\nviewer_173977255908188.zoomTo();\n\tviewer_173977255908188.addModel(\"15\\nLattice=\\\"4.68505334854126 0.0 1.7012698650360107 -1.8077777406735152 5.731683122154708 -0.0692918673157692 0.0 0.0 6.273503303527832\\\" Properties=species:S:1:pos:R:3 pbc=\\\"T T T\\\"\\nC       -0.77667379       5.46858254       3.01371117\\nFe       2.69194264       0.48237542       3.08780249\\nGd       2.26784730       0.14210770       6.41683919\\nFe       1.33797556       3.00702835       6.02050709\\nFe       2.46432180       4.62921693       1.78812036\\nFe      -0.27070211       3.87995276       1.81881819\\nFe       1.54148753       2.82979515       3.43268345\\nFe       0.40552190       0.97753115       4.51851679\\nC        1.47811780       2.91287034       1.59387904\\nFe       3.44635684       2.42665823       1.54348801\\nFe       0.37617891       1.25200578       1.81001884\\nFe       2.23792163       4.78606802       4.53641915\\nFe       3.34257019       2.16472605       4.88220340\\nFe      -0.44955632       4.08856803       4.39775176\\nC        4.28289133       0.75856058       1.76669686\\n\",\"xyz\");\n\tviewer_173977255908188.setStyle({\"serial\": 0},{\"sphere\": {\"scale\": 0.038190779014308424, \"color\": \"#1f77b4\"}});\n\tviewer_173977255908188.setStyle({\"serial\": 1},{\"sphere\": {\"scale\": 0.17756756756756756, \"color\": \"#8c564b\"}});\n\tviewer_173977255908188.setStyle({\"serial\": 2},{\"sphere\": {\"scale\": 0.5, \"color\": \"#17becf\"}});\n\tviewer_173977255908188.setStyle({\"serial\": 3},{\"sphere\": {\"scale\": 0.17756756756756756, \"color\": \"#8c564b\"}});\n\tviewer_173977255908188.setStyle({\"serial\": 4},{\"sphere\": {\"scale\": 0.17756756756756756, \"color\": \"#8c564b\"}});\n\tviewer_173977255908188.setStyle({\"serial\": 5},{\"sphere\": {\"scale\": 0.17756756756756756, \"color\": \"#8c564b\"}});\n\tviewer_173977255908188.setStyle({\"serial\": 6},{\"sphere\": {\"scale\": 0.17756756756756756, \"color\": \"#8c564b\"}});\n\tviewer_173977255908188.setStyle({\"serial\": 7},{\"sphere\": {\"scale\": 0.17756756756756756, \"color\": \"#8c564b\"}});\n\tviewer_173977255908188.setStyle({\"serial\": 8},{\"sphere\": {\"scale\": 0.038190779014308424, \"color\": \"#1f77b4\"}});\n\tviewer_173977255908188.setStyle({\"serial\": 9},{\"sphere\": {\"scale\": 0.17756756756756756, \"color\": \"#8c564b\"}});\n\tviewer_173977255908188.setStyle({\"serial\": 10},{\"sphere\": {\"scale\": 0.17756756756756756, \"color\": \"#8c564b\"}});\n\tviewer_173977255908188.setStyle({\"serial\": 11},{\"sphere\": {\"scale\": 0.17756756756756756, \"color\": \"#8c564b\"}});\n\tviewer_173977255908188.setStyle({\"serial\": 12},{\"sphere\": {\"scale\": 0.17756756756756756, \"color\": \"#8c564b\"}});\n\tviewer_173977255908188.setStyle({\"serial\": 13},{\"sphere\": {\"scale\": 0.17756756756756756, \"color\": \"#8c564b\"}});\n\tviewer_173977255908188.setStyle({\"serial\": 14},{\"sphere\": {\"scale\": 0.038190779014308424, \"color\": \"#1f77b4\"}});\n\tviewer_173977255908188.addLine({\"start\": {\"x\": 0, \"y\": 0, \"z\": 0}, \"end\": {\"x\": 4.68505334854126, \"y\": 0.0, \"z\": 1.7012698650360107}, \"color\": \"black\"});\n\tviewer_173977255908188.addLine({\"start\": {\"x\": 0, \"y\": 0, \"z\": 0}, \"end\": {\"x\": -1.8077777406735152, \"y\": 5.731683122154708, \"z\": -0.0692918673157692}, \"color\": \"black\"});\n\tviewer_173977255908188.addLine({\"start\": {\"x\": 0, \"y\": 0, \"z\": 0}, \"end\": {\"x\": 0.0, \"y\": 0.0, \"z\": 6.273503303527832}, \"color\": \"black\"});\n\tviewer_173977255908188.addLine({\"start\": {\"x\": 4.68505334854126, \"y\": 0.0, \"z\": 1.7012698650360107}, \"end\": {\"x\": 2.8772756078677446, \"y\": 5.731683122154708, \"z\": 1.6319779977202415}, \"color\": \"black\"});\n\tviewer_173977255908188.addLine({\"start\": {\"x\": 4.68505334854126, \"y\": 0.0, \"z\": 1.7012698650360107}, \"end\": {\"x\": 4.68505334854126, \"y\": 0.0, \"z\": 7.974773168563843}, \"color\": \"black\"});\n\tviewer_173977255908188.addLine({\"start\": {\"x\": -1.8077777406735152, \"y\": 5.731683122154708, \"z\": -0.0692918673157692}, \"end\": {\"x\": 2.8772756078677446, \"y\": 5.731683122154708, \"z\": 1.6319779977202415}, \"color\": \"black\"});\n\tviewer_173977255908188.addLine({\"start\": {\"x\": -1.8077777406735152, \"y\": 5.731683122154708, \"z\": -0.0692918673157692}, \"end\": {\"x\": -1.8077777406735152, \"y\": 5.731683122154708, \"z\": 6.204211436212063}, \"color\": \"black\"});\n\tviewer_173977255908188.addLine({\"start\": {\"x\": 0.0, \"y\": 0.0, \"z\": 6.273503303527832}, \"end\": {\"x\": 4.68505334854126, \"y\": 0.0, \"z\": 7.974773168563843}, \"color\": \"black\"});\n\tviewer_173977255908188.addLine({\"start\": {\"x\": 0.0, \"y\": 0.0, \"z\": 6.273503303527832}, \"end\": {\"x\": -1.8077777406735152, \"y\": 5.731683122154708, \"z\": 6.204211436212063}, \"color\": \"black\"});\n\tviewer_173977255908188.addLine({\"start\": {\"x\": 2.8772756078677446, \"y\": 5.731683122154708, \"z\": 1.6319779977202415}, \"end\": {\"x\": 2.8772756078677446, \"y\": 5.731683122154708, \"z\": 7.905481301248074}, \"color\": \"black\"});\n\tviewer_173977255908188.addLine({\"start\": {\"x\": 4.68505334854126, \"y\": 0.0, \"z\": 7.974773168563843}, \"end\": {\"x\": 2.8772756078677446, \"y\": 5.731683122154708, \"z\": 7.905481301248074}, \"color\": \"black\"});\n\tviewer_173977255908188.addLine({\"start\": {\"x\": -1.8077777406735152, \"y\": 5.731683122154708, \"z\": 6.204211436212063}, \"end\": {\"x\": 2.8772756078677446, \"y\": 5.731683122154708, \"z\": 7.905481301248074}, \"color\": \"black\"});\n\tviewer_173977255908188.addLine({\"start\": {\"x\": 0.0, \"y\": 0.0, \"z\": 0.0}, \"end\": {\"x\": 4.68505334854126, \"y\": 0.0, \"z\": 1.7012698650360107}, \"color\": \"grey\"});\n\tviewer_173977255908188.addLine({\"start\": {\"x\": 0.0, \"y\": 0.0, \"z\": 0.0}, \"end\": {\"x\": -1.8077777406735152, \"y\": 5.731683122154708, \"z\": -0.0692918673157692}, \"color\": \"grey\"});\n\tviewer_173977255908188.addLine({\"start\": {\"x\": 0.0, \"y\": 0.0, \"z\": 0.0}, \"end\": {\"x\": 0.0, \"y\": 0.0, \"z\": 6.273503303527832}, \"color\": \"grey\"});\n\tviewer_173977255908188.addLine({\"start\": {\"x\": 4.68505334854126, \"y\": 0.0, \"z\": 1.7012698650360107}, \"end\": {\"x\": 2.8772756078677446, \"y\": 5.731683122154708, \"z\": 1.6319779977202415}, \"color\": \"grey\"});\n\tviewer_173977255908188.addLine({\"start\": {\"x\": 4.68505334854126, \"y\": 0.0, \"z\": 1.7012698650360107}, \"end\": {\"x\": 4.68505334854126, \"y\": 0.0, \"z\": 7.974773168563843}, \"color\": \"grey\"});\n\tviewer_173977255908188.addLine({\"start\": {\"x\": -1.8077777406735152, \"y\": 5.731683122154708, \"z\": -0.0692918673157692}, \"end\": {\"x\": 2.8772756078677446, \"y\": 5.731683122154708, \"z\": 1.6319779977202415}, \"color\": \"grey\"});\n\tviewer_173977255908188.addLine({\"start\": {\"x\": -1.8077777406735152, \"y\": 5.731683122154708, \"z\": -0.0692918673157692}, \"end\": {\"x\": -1.8077777406735152, \"y\": 5.731683122154708, \"z\": 6.204211436212063}, \"color\": \"grey\"});\n\tviewer_173977255908188.addLine({\"start\": {\"x\": 0.0, \"y\": 0.0, \"z\": 6.273503303527832}, \"end\": {\"x\": 4.68505334854126, \"y\": 0.0, \"z\": 7.974773168563843}, \"color\": \"grey\"});\n\tviewer_173977255908188.addLine({\"start\": {\"x\": 0.0, \"y\": 0.0, \"z\": 6.273503303527832}, \"end\": {\"x\": -1.8077777406735152, \"y\": 5.731683122154708, \"z\": 6.204211436212063}, \"color\": \"grey\"});\n\tviewer_173977255908188.addLine({\"start\": {\"x\": 2.8772756078677446, \"y\": 5.731683122154708, \"z\": 1.6319779977202415}, \"end\": {\"x\": 2.8772756078677446, \"y\": 5.731683122154708, \"z\": 7.905481301248074}, \"color\": \"grey\"});\n\tviewer_173977255908188.addLine({\"start\": {\"x\": 4.68505334854126, \"y\": 0.0, \"z\": 7.974773168563843}, \"end\": {\"x\": 2.8772756078677446, \"y\": 5.731683122154708, \"z\": 7.905481301248074}, \"color\": \"grey\"});\n\tviewer_173977255908188.addLine({\"start\": {\"x\": -1.8077777406735152, \"y\": 5.731683122154708, \"z\": 6.204211436212063}, \"end\": {\"x\": 2.8772756078677446, \"y\": 5.731683122154708, \"z\": 7.905481301248074}, \"color\": \"grey\"});\n\tviewer_173977255908188.addArrow({\"start\": {\"x\": -7, \"y\": 0, \"z\": 0}, \"end\": {\"x\": -2.3149466514587402, \"y\": 0.0, \"z\": 1.7012698650360107}, \"color\": \"red\", \"radius\": 0.1});\n\tviewer_173977255908188.addLabel(\"a\",{\"position\": {\"x\": -2.3380961179733277, \"y\": 0.0, \"z\": 1.7182825636863708}, \"fontSize\": 17, \"backgroundColor\": \"white\", \"fontColor\": \"red\"});\n\tviewer_173977255908188.addArrow({\"start\": {\"x\": -7, \"y\": 0, \"z\": 0}, \"end\": {\"x\": -8.807777740673515, \"y\": 5.731683122154708, \"z\": -0.0692918673157692}, \"color\": \"green\", \"radius\": 0.1});\n\tviewer_173977255908188.addLabel(\"b\",{\"position\": {\"x\": -8.89585551808025, \"y\": 5.788999953376255, \"z\": -0.06998478598892689}, \"fontSize\": 17, \"backgroundColor\": \"white\", \"fontColor\": \"green\"});\n\tviewer_173977255908188.addArrow({\"start\": {\"x\": -7, \"y\": 0, \"z\": 0}, \"end\": {\"x\": -7.0, \"y\": 0.0, \"z\": 6.273503303527832}, \"color\": \"blue\", \"radius\": 0.1});\n\tviewer_173977255908188.addLabel(\"c\",{\"position\": {\"x\": -7.07, \"y\": 0.0, \"z\": 6.3362383365631105}, \"fontSize\": 17, \"backgroundColor\": \"white\", \"fontColor\": \"blue\"});\n\tviewer_173977255908188.addSphere({\"center\": {\"x\": -16, \"y\": -5, \"z\": 0}, \"radius\": 1, \"color\": \"#1f77b4\"});\n\tviewer_173977255908188.addLabel(\"C\",{\"position\": {\"x\": -15, \"y\": -5, \"z\": 0}, \"fontSize\": 15, \"backgroundColor\": \"white\", \"fontColor\": \"#1f77b4\"});\n\tviewer_173977255908188.addSphere({\"center\": {\"x\": -16, \"y\": 0, \"z\": 0}, \"radius\": 1, \"color\": \"#8c564b\"});\n\tviewer_173977255908188.addLabel(\"Fe\",{\"position\": {\"x\": -15, \"y\": 0, \"z\": 0}, \"fontSize\": 15, \"backgroundColor\": \"white\", \"fontColor\": \"#8c564b\"});\n\tviewer_173977255908188.addSphere({\"center\": {\"x\": -16, \"y\": 5, \"z\": 0}, \"radius\": 1, \"color\": \"#17becf\"});\n\tviewer_173977255908188.addLabel(\"Gd\",{\"position\": {\"x\": -15, \"y\": 5, \"z\": 0}, \"fontSize\": 15, \"backgroundColor\": \"white\", \"fontColor\": \"#17becf\"});\n\tviewer_173977255908188.zoomTo();\nviewer_173977255908188.render();\n});\n</script>",
      "text/html": [
       "<div id=\"3dmolviewer_173977255908188\"  style=\"position: relative; width: 800px; height: 600px;\">\n",
       "        <p id=\"3dmolwarning_173977255908188\" style=\"background-color:#ffcccc;color:black\">3Dmol.js failed to load for some reason.  Please check your browser console for error messages.<br></p>\n",
       "        </div>\n",
       "<script>\n",
       "\n",
       "var loadScriptAsync = function(uri){\n",
       "  return new Promise((resolve, reject) => {\n",
       "    //this is to ignore the existence of requirejs amd\n",
       "    var savedexports, savedmodule;\n",
       "    if (typeof exports !== 'undefined') savedexports = exports;\n",
       "    else exports = {}\n",
       "    if (typeof module !== 'undefined') savedmodule = module;\n",
       "    else module = {}\n",
       "\n",
       "    var tag = document.createElement('script');\n",
       "    tag.src = uri;\n",
       "    tag.async = true;\n",
       "    tag.onload = () => {\n",
       "        exports = savedexports;\n",
       "        module = savedmodule;\n",
       "        resolve();\n",
       "    };\n",
       "  var firstScriptTag = document.getElementsByTagName('script')[0];\n",
       "  firstScriptTag.parentNode.insertBefore(tag, firstScriptTag);\n",
       "});\n",
       "};\n",
       "\n",
       "if(typeof $3Dmolpromise === 'undefined') {\n",
       "$3Dmolpromise = null;\n",
       "  $3Dmolpromise = loadScriptAsync('https://cdnjs.cloudflare.com/ajax/libs/3Dmol/2.4.2/3Dmol-min.js');\n",
       "}\n",
       "\n",
       "var viewer_173977255908188 = null;\n",
       "var warn = document.getElementById(\"3dmolwarning_173977255908188\");\n",
       "if(warn) {\n",
       "    warn.parentNode.removeChild(warn);\n",
       "}\n",
       "$3Dmolpromise.then(function() {\n",
       "viewer_173977255908188 = $3Dmol.createViewer(document.getElementById(\"3dmolviewer_173977255908188\"),{backgroundColor:\"white\"});\n",
       "viewer_173977255908188.zoomTo();\n",
       "\tviewer_173977255908188.addModel(\"15\\nLattice=\\\"4.68505334854126 0.0 1.7012698650360107 -1.8077777406735152 5.731683122154708 -0.0692918673157692 0.0 0.0 6.273503303527832\\\" Properties=species:S:1:pos:R:3 pbc=\\\"T T T\\\"\\nC       -0.77667379       5.46858254       3.01371117\\nFe       2.69194264       0.48237542       3.08780249\\nGd       2.26784730       0.14210770       6.41683919\\nFe       1.33797556       3.00702835       6.02050709\\nFe       2.46432180       4.62921693       1.78812036\\nFe      -0.27070211       3.87995276       1.81881819\\nFe       1.54148753       2.82979515       3.43268345\\nFe       0.40552190       0.97753115       4.51851679\\nC        1.47811780       2.91287034       1.59387904\\nFe       3.44635684       2.42665823       1.54348801\\nFe       0.37617891       1.25200578       1.81001884\\nFe       2.23792163       4.78606802       4.53641915\\nFe       3.34257019       2.16472605       4.88220340\\nFe      -0.44955632       4.08856803       4.39775176\\nC        4.28289133       0.75856058       1.76669686\\n\",\"xyz\");\n",
       "\tviewer_173977255908188.setStyle({\"serial\": 0},{\"sphere\": {\"scale\": 0.038190779014308424, \"color\": \"#1f77b4\"}});\n",
       "\tviewer_173977255908188.setStyle({\"serial\": 1},{\"sphere\": {\"scale\": 0.17756756756756756, \"color\": \"#8c564b\"}});\n",
       "\tviewer_173977255908188.setStyle({\"serial\": 2},{\"sphere\": {\"scale\": 0.5, \"color\": \"#17becf\"}});\n",
       "\tviewer_173977255908188.setStyle({\"serial\": 3},{\"sphere\": {\"scale\": 0.17756756756756756, \"color\": \"#8c564b\"}});\n",
       "\tviewer_173977255908188.setStyle({\"serial\": 4},{\"sphere\": {\"scale\": 0.17756756756756756, \"color\": \"#8c564b\"}});\n",
       "\tviewer_173977255908188.setStyle({\"serial\": 5},{\"sphere\": {\"scale\": 0.17756756756756756, \"color\": \"#8c564b\"}});\n",
       "\tviewer_173977255908188.setStyle({\"serial\": 6},{\"sphere\": {\"scale\": 0.17756756756756756, \"color\": \"#8c564b\"}});\n",
       "\tviewer_173977255908188.setStyle({\"serial\": 7},{\"sphere\": {\"scale\": 0.17756756756756756, \"color\": \"#8c564b\"}});\n",
       "\tviewer_173977255908188.setStyle({\"serial\": 8},{\"sphere\": {\"scale\": 0.038190779014308424, \"color\": \"#1f77b4\"}});\n",
       "\tviewer_173977255908188.setStyle({\"serial\": 9},{\"sphere\": {\"scale\": 0.17756756756756756, \"color\": \"#8c564b\"}});\n",
       "\tviewer_173977255908188.setStyle({\"serial\": 10},{\"sphere\": {\"scale\": 0.17756756756756756, \"color\": \"#8c564b\"}});\n",
       "\tviewer_173977255908188.setStyle({\"serial\": 11},{\"sphere\": {\"scale\": 0.17756756756756756, \"color\": \"#8c564b\"}});\n",
       "\tviewer_173977255908188.setStyle({\"serial\": 12},{\"sphere\": {\"scale\": 0.17756756756756756, \"color\": \"#8c564b\"}});\n",
       "\tviewer_173977255908188.setStyle({\"serial\": 13},{\"sphere\": {\"scale\": 0.17756756756756756, \"color\": \"#8c564b\"}});\n",
       "\tviewer_173977255908188.setStyle({\"serial\": 14},{\"sphere\": {\"scale\": 0.038190779014308424, \"color\": \"#1f77b4\"}});\n",
       "\tviewer_173977255908188.addLine({\"start\": {\"x\": 0, \"y\": 0, \"z\": 0}, \"end\": {\"x\": 4.68505334854126, \"y\": 0.0, \"z\": 1.7012698650360107}, \"color\": \"black\"});\n",
       "\tviewer_173977255908188.addLine({\"start\": {\"x\": 0, \"y\": 0, \"z\": 0}, \"end\": {\"x\": -1.8077777406735152, \"y\": 5.731683122154708, \"z\": -0.0692918673157692}, \"color\": \"black\"});\n",
       "\tviewer_173977255908188.addLine({\"start\": {\"x\": 0, \"y\": 0, \"z\": 0}, \"end\": {\"x\": 0.0, \"y\": 0.0, \"z\": 6.273503303527832}, \"color\": \"black\"});\n",
       "\tviewer_173977255908188.addLine({\"start\": {\"x\": 4.68505334854126, \"y\": 0.0, \"z\": 1.7012698650360107}, \"end\": {\"x\": 2.8772756078677446, \"y\": 5.731683122154708, \"z\": 1.6319779977202415}, \"color\": \"black\"});\n",
       "\tviewer_173977255908188.addLine({\"start\": {\"x\": 4.68505334854126, \"y\": 0.0, \"z\": 1.7012698650360107}, \"end\": {\"x\": 4.68505334854126, \"y\": 0.0, \"z\": 7.974773168563843}, \"color\": \"black\"});\n",
       "\tviewer_173977255908188.addLine({\"start\": {\"x\": -1.8077777406735152, \"y\": 5.731683122154708, \"z\": -0.0692918673157692}, \"end\": {\"x\": 2.8772756078677446, \"y\": 5.731683122154708, \"z\": 1.6319779977202415}, \"color\": \"black\"});\n",
       "\tviewer_173977255908188.addLine({\"start\": {\"x\": -1.8077777406735152, \"y\": 5.731683122154708, \"z\": -0.0692918673157692}, \"end\": {\"x\": -1.8077777406735152, \"y\": 5.731683122154708, \"z\": 6.204211436212063}, \"color\": \"black\"});\n",
       "\tviewer_173977255908188.addLine({\"start\": {\"x\": 0.0, \"y\": 0.0, \"z\": 6.273503303527832}, \"end\": {\"x\": 4.68505334854126, \"y\": 0.0, \"z\": 7.974773168563843}, \"color\": \"black\"});\n",
       "\tviewer_173977255908188.addLine({\"start\": {\"x\": 0.0, \"y\": 0.0, \"z\": 6.273503303527832}, \"end\": {\"x\": -1.8077777406735152, \"y\": 5.731683122154708, \"z\": 6.204211436212063}, \"color\": \"black\"});\n",
       "\tviewer_173977255908188.addLine({\"start\": {\"x\": 2.8772756078677446, \"y\": 5.731683122154708, \"z\": 1.6319779977202415}, \"end\": {\"x\": 2.8772756078677446, \"y\": 5.731683122154708, \"z\": 7.905481301248074}, \"color\": \"black\"});\n",
       "\tviewer_173977255908188.addLine({\"start\": {\"x\": 4.68505334854126, \"y\": 0.0, \"z\": 7.974773168563843}, \"end\": {\"x\": 2.8772756078677446, \"y\": 5.731683122154708, \"z\": 7.905481301248074}, \"color\": \"black\"});\n",
       "\tviewer_173977255908188.addLine({\"start\": {\"x\": -1.8077777406735152, \"y\": 5.731683122154708, \"z\": 6.204211436212063}, \"end\": {\"x\": 2.8772756078677446, \"y\": 5.731683122154708, \"z\": 7.905481301248074}, \"color\": \"black\"});\n",
       "\tviewer_173977255908188.addLine({\"start\": {\"x\": 0.0, \"y\": 0.0, \"z\": 0.0}, \"end\": {\"x\": 4.68505334854126, \"y\": 0.0, \"z\": 1.7012698650360107}, \"color\": \"grey\"});\n",
       "\tviewer_173977255908188.addLine({\"start\": {\"x\": 0.0, \"y\": 0.0, \"z\": 0.0}, \"end\": {\"x\": -1.8077777406735152, \"y\": 5.731683122154708, \"z\": -0.0692918673157692}, \"color\": \"grey\"});\n",
       "\tviewer_173977255908188.addLine({\"start\": {\"x\": 0.0, \"y\": 0.0, \"z\": 0.0}, \"end\": {\"x\": 0.0, \"y\": 0.0, \"z\": 6.273503303527832}, \"color\": \"grey\"});\n",
       "\tviewer_173977255908188.addLine({\"start\": {\"x\": 4.68505334854126, \"y\": 0.0, \"z\": 1.7012698650360107}, \"end\": {\"x\": 2.8772756078677446, \"y\": 5.731683122154708, \"z\": 1.6319779977202415}, \"color\": \"grey\"});\n",
       "\tviewer_173977255908188.addLine({\"start\": {\"x\": 4.68505334854126, \"y\": 0.0, \"z\": 1.7012698650360107}, \"end\": {\"x\": 4.68505334854126, \"y\": 0.0, \"z\": 7.974773168563843}, \"color\": \"grey\"});\n",
       "\tviewer_173977255908188.addLine({\"start\": {\"x\": -1.8077777406735152, \"y\": 5.731683122154708, \"z\": -0.0692918673157692}, \"end\": {\"x\": 2.8772756078677446, \"y\": 5.731683122154708, \"z\": 1.6319779977202415}, \"color\": \"grey\"});\n",
       "\tviewer_173977255908188.addLine({\"start\": {\"x\": -1.8077777406735152, \"y\": 5.731683122154708, \"z\": -0.0692918673157692}, \"end\": {\"x\": -1.8077777406735152, \"y\": 5.731683122154708, \"z\": 6.204211436212063}, \"color\": \"grey\"});\n",
       "\tviewer_173977255908188.addLine({\"start\": {\"x\": 0.0, \"y\": 0.0, \"z\": 6.273503303527832}, \"end\": {\"x\": 4.68505334854126, \"y\": 0.0, \"z\": 7.974773168563843}, \"color\": \"grey\"});\n",
       "\tviewer_173977255908188.addLine({\"start\": {\"x\": 0.0, \"y\": 0.0, \"z\": 6.273503303527832}, \"end\": {\"x\": -1.8077777406735152, \"y\": 5.731683122154708, \"z\": 6.204211436212063}, \"color\": \"grey\"});\n",
       "\tviewer_173977255908188.addLine({\"start\": {\"x\": 2.8772756078677446, \"y\": 5.731683122154708, \"z\": 1.6319779977202415}, \"end\": {\"x\": 2.8772756078677446, \"y\": 5.731683122154708, \"z\": 7.905481301248074}, \"color\": \"grey\"});\n",
       "\tviewer_173977255908188.addLine({\"start\": {\"x\": 4.68505334854126, \"y\": 0.0, \"z\": 7.974773168563843}, \"end\": {\"x\": 2.8772756078677446, \"y\": 5.731683122154708, \"z\": 7.905481301248074}, \"color\": \"grey\"});\n",
       "\tviewer_173977255908188.addLine({\"start\": {\"x\": -1.8077777406735152, \"y\": 5.731683122154708, \"z\": 6.204211436212063}, \"end\": {\"x\": 2.8772756078677446, \"y\": 5.731683122154708, \"z\": 7.905481301248074}, \"color\": \"grey\"});\n",
       "\tviewer_173977255908188.addArrow({\"start\": {\"x\": -7, \"y\": 0, \"z\": 0}, \"end\": {\"x\": -2.3149466514587402, \"y\": 0.0, \"z\": 1.7012698650360107}, \"color\": \"red\", \"radius\": 0.1});\n",
       "\tviewer_173977255908188.addLabel(\"a\",{\"position\": {\"x\": -2.3380961179733277, \"y\": 0.0, \"z\": 1.7182825636863708}, \"fontSize\": 17, \"backgroundColor\": \"white\", \"fontColor\": \"red\"});\n",
       "\tviewer_173977255908188.addArrow({\"start\": {\"x\": -7, \"y\": 0, \"z\": 0}, \"end\": {\"x\": -8.807777740673515, \"y\": 5.731683122154708, \"z\": -0.0692918673157692}, \"color\": \"green\", \"radius\": 0.1});\n",
       "\tviewer_173977255908188.addLabel(\"b\",{\"position\": {\"x\": -8.89585551808025, \"y\": 5.788999953376255, \"z\": -0.06998478598892689}, \"fontSize\": 17, \"backgroundColor\": \"white\", \"fontColor\": \"green\"});\n",
       "\tviewer_173977255908188.addArrow({\"start\": {\"x\": -7, \"y\": 0, \"z\": 0}, \"end\": {\"x\": -7.0, \"y\": 0.0, \"z\": 6.273503303527832}, \"color\": \"blue\", \"radius\": 0.1});\n",
       "\tviewer_173977255908188.addLabel(\"c\",{\"position\": {\"x\": -7.07, \"y\": 0.0, \"z\": 6.3362383365631105}, \"fontSize\": 17, \"backgroundColor\": \"white\", \"fontColor\": \"blue\"});\n",
       "\tviewer_173977255908188.addSphere({\"center\": {\"x\": -16, \"y\": -5, \"z\": 0}, \"radius\": 1, \"color\": \"#1f77b4\"});\n",
       "\tviewer_173977255908188.addLabel(\"C\",{\"position\": {\"x\": -15, \"y\": -5, \"z\": 0}, \"fontSize\": 15, \"backgroundColor\": \"white\", \"fontColor\": \"#1f77b4\"});\n",
       "\tviewer_173977255908188.addSphere({\"center\": {\"x\": -16, \"y\": 0, \"z\": 0}, \"radius\": 1, \"color\": \"#8c564b\"});\n",
       "\tviewer_173977255908188.addLabel(\"Fe\",{\"position\": {\"x\": -15, \"y\": 0, \"z\": 0}, \"fontSize\": 15, \"backgroundColor\": \"white\", \"fontColor\": \"#8c564b\"});\n",
       "\tviewer_173977255908188.addSphere({\"center\": {\"x\": -16, \"y\": 5, \"z\": 0}, \"radius\": 1, \"color\": \"#17becf\"});\n",
       "\tviewer_173977255908188.addLabel(\"Gd\",{\"position\": {\"x\": -15, \"y\": 5, \"z\": 0}, \"fontSize\": 15, \"backgroundColor\": \"white\", \"fontColor\": \"#17becf\"});\n",
       "\tviewer_173977255908188.zoomTo();\n",
       "viewer_173977255908188.render();\n",
       "});\n",
       "</script>"
      ]
     },
     "metadata": {},
     "output_type": "display_data"
    }
   ],
   "source": [
    "pick_results(1, long_results, structure_path, repeat_unit=1)"
   ]
  }
 ],
 "metadata": {
  "kernelspec": {
   "display_name": ".venv",
   "language": "python",
   "name": "python3"
  },
  "language_info": {
   "codemirror_mode": {
    "name": "ipython",
    "version": 3
   },
   "file_extension": ".py",
   "mimetype": "text/x-python",
   "name": "python",
   "nbconvert_exporter": "python",
   "pygments_lexer": "ipython3",
   "version": "3.10.16"
  }
 },
 "nbformat": 4,
 "nbformat_minor": 2
}
